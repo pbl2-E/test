import numpy as np

startprob = {"p":0.46, "q":0.10, "r":0.44}

transmat = {
            "p":{"p":0.55, "q":0.18, "r":0.27},
            "q":{"p":0.13, "q":0.05, "r":0.82},
            "r":{"p":0.54, "q":0.09, "r":0.37}
           }
means = {
       "p": {0:0.78, 1:0.22},
       "q": {0:0.68, 1:0.32},
       "r": {0:0.59, 1:0.41}
       }

#test = [1, 1, 0, 0, 1, 1, 0, 1, 1, 1, 1]
test = [1, 1, 0, 1, 1]
print(f"{test}の最も確率の高い状態列とその確率は")
vit = [[0 for k in range(4)] for j in range(12)] 

for w in range(len(test)):
  i = 0
  if(w == 0):
    for key in startprob.keys():
        kari = startprob[key] * means[key][test[w]]
        vit[w][i] = kari
        i += 1
  else:
    for key in startprob.keys():
      vit[w][i] = max(vit[w-1][0]*transmat["p"][key]*means[key][test[w]], vit[w-1][1]*transmat["q"][key]*means[key][test[w]], vit[w-1][2]*transmat["r"][key]*means[key][test[w]])
      i += 1
    if(vit[w-1][0]*transmat["p"][key]*means[key][test[w]] > vit[w-1][1]*transmat["q"][key]*means[key][test[w]]):
        MAXs = vit[w-1][0]*transmat["p"][key]*means[key][test[w]]
        MAX = "p"
    else:
        MAXs = vit[w-1][1]*transmat["q"][key]*means[key][test[w]]
        MAX = "q"
    if(MAXs < vit[w-1][2]*transmat["r"][key]*means[key][test[w]]):
        MAX = "r"
    vit[w][3] = MAX
if(vit[w][0] > vit[w][1]):
  MAX = "p"
  MAXs = vit[w][0]
else:
  MAX = "q"
  MAXs = vit[w][1]
if(MAXs < vit[w][2]):
  MAX = "r"
  MAXs = vit[w][2]

for m in range(len(vit)):
  if(vit[m][3] != 0):
    print(vit[m][3])

print(f"最後の文字は{MAX}であり、確率は{MAXs}となる")
